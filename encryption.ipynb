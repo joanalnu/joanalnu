{
  "cells": [
    {
      "cell_type": "markdown",
      "id": "a3e32783-ab16-46cc-b86a-e40fea902706",
      "metadata": {
        "id": "a3e32783-ab16-46cc-b86a-e40fea902706"
      },
      "source": [
        "# 🕵️‍♂️ Secret Codes with Python!\n",
        "Welcome, Code Explorers! 🧭  \n",
        "Today we're going to learn how to write and crack secret codes using **Morse Code** and the **Caesar Cipher**.\n",
        "\n",
        "By the end, you'll be a _**junior cryptographer**_ — someone who makes and breaks secret messages! 🧠🔐\n"
      ]
    },
    {
      "cell_type": "markdown",
      "id": "ea98b767-b6b9-4254-a1d8-84674f621cde",
      "metadata": {
        "id": "ea98b767-b6b9-4254-a1d8-84674f621cde"
      },
      "source": [
        "# 📡 1. What is Morse Code?"
      ]
    },
    {
      "cell_type": "markdown",
      "id": "4b02ce42-5db3-4098-856d-a10675e36484",
      "metadata": {
        "id": "4b02ce42-5db3-4098-856d-a10675e36484"
      },
      "source": [
        "Morse code is a way to send messages using **dots** and **dashes**.\n",
        "\n",
        "Each letter becomes a code like this:\n",
        "\n",
        "- A → `. -`\n",
        "- B → `- . . .`\n",
        "- C → `- . - .`\n",
        "\n",
        "We will write a program to:\n",
        "- Change normal words into Morse Code.\n",
        "- And also turn Morse Code back into words!"
      ]
    },
    {
      "cell_type": "code",
      "execution_count": 1,
      "id": "991be344-8ac9-4a54-a8d6-f6a3e8131276",
      "metadata": {
        "id": "991be344-8ac9-4a54-a8d6-f6a3e8131276"
      },
      "outputs": [],
      "source": [
        "# 🧪 Let's make a Morse code dictionary!\n",
        "\n",
        "morse_code = {\n",
        "    'A': '.-',    'B': '-...',  'C': '-.-.',\n",
        "    'D': '-..',   'E': '.',     'F': '..-.',\n",
        "    'G': '--.',   'H': '....',  'I': '..',\n",
        "    'J': '.---',  'K': '-.-',   'L': '.-..',\n",
        "    'M': '--',    'N': '-.',    'O': '---',\n",
        "    'P': '.--.',  'Q': '--.-',  'R': '.-.',\n",
        "    'S': '...',   'T': '-',     'U': '..-',\n",
        "    'V': '...-',  'W': '.--',   'X': '-..-',\n",
        "    'Y': '-.--',  'Z': '--..',\n",
        "    '1': '.----', '2': '..---', '3': '...--',\n",
        "    '4': '....-', '5': '.....', '6': '-....',\n",
        "    '7': '--...', '8': '---..', '9': '----.',\n",
        "    '0': '-----',\n",
        "    '?':'..--..', '!':'-.-.--'\n",
        "}\n"
      ]
    },
    {
      "cell_type": "code",
      "execution_count": 2,
      "id": "6bcd33f3-36ea-4e16-bbe0-4b0d3aecba35",
      "metadata": {
        "id": "6bcd33f3-36ea-4e16-bbe0-4b0d3aecba35",
        "outputId": "92d167ff-ed12-4d34-de3d-59d0f31ea01c",
        "colab": {
          "base_uri": "https://localhost:8080/"
        }
      },
      "outputs": [
        {
          "output_type": "stream",
          "name": "stdout",
          "text": [
            ".... . .-.. .-.. --- \n"
          ]
        }
      ],
      "source": [
        "# 🖨️ Let's make a function to convert words to Morse Code!\n",
        "\n",
        "def to_morse(message):\n",
        "    code = ''\n",
        "    for letter in message.upper():\n",
        "        if letter in morse_code:\n",
        "            code += morse_code[letter] + ' '\n",
        "        else:\n",
        "            code += '? '  # unknown character\n",
        "    return code\n",
        "\n",
        "# Try it!\n",
        "print(to_morse(\"HELLO\"))\n"
      ]
    },
    {
      "cell_type": "markdown",
      "id": "1d57c313-4f53-41c7-9b16-cb15edf11e93",
      "metadata": {
        "id": "1d57c313-4f53-41c7-9b16-cb15edf11e93"
      },
      "source": [
        "## 🔁 Exercise!\n",
        "Try writing your own word and turn it into Morse Code! 🧪\n"
      ]
    },
    {
      "cell_type": "code",
      "execution_count": 9,
      "id": "9b8a18e9-15bf-4dfa-931b-df51a19105de",
      "metadata": {
        "id": "9b8a18e9-15bf-4dfa-931b-df51a19105de",
        "outputId": "243bba77-9961-449c-896d-7f4225c1931a",
        "colab": {
          "base_uri": "https://localhost:8080/"
        }
      },
      "outputs": [
        {
          "output_type": "stream",
          "name": "stdout",
          "text": [
            "--. ..- .- -.-. .- -- .- .-.. .-.. --- \n"
          ]
        }
      ],
      "source": [
        "# ✍️ Your turn!\n",
        "print(to_morse('guacamallo'))"
      ]
    },
    {
      "cell_type": "markdown",
      "id": "9be7c469-a86d-4078-b4f0-d2f7998cee3a",
      "metadata": {
        "id": "9be7c469-a86d-4078-b4f0-d2f7998cee3a"
      },
      "source": [
        "# 🔄 2. Let's Decode Morse Code!\n",
        "\n",
        "Now let's go backwards — turn Morse Code into letters!\n"
      ]
    },
    {
      "cell_type": "code",
      "execution_count": 12,
      "id": "87bb2fb4-2e2a-48a6-ad31-0750392fa719",
      "metadata": {
        "id": "87bb2fb4-2e2a-48a6-ad31-0750392fa719",
        "outputId": "4ea097e9-a6d0-4077-9b05-c582effa731b",
        "colab": {
          "base_uri": "https://localhost:8080/"
        }
      },
      "outputs": [
        {
          "output_type": "stream",
          "name": "stdout",
          "text": [
            "HELLO\n"
          ]
        }
      ],
      "source": [
        "# Let's reverse the dictionary to go from morse to letters\n",
        "morse_to_letter = {value: key for key, value in morse_code.items()}\n",
        "\n",
        "def from_morse(code):\n",
        "    words = code.strip().split(' ')\n",
        "    message = ''\n",
        "    for symbol in words:\n",
        "        if symbol in morse_to_letter:\n",
        "            message += morse_to_letter[symbol]\n",
        "        else:\n",
        "            message += '?'\n",
        "    return message\n",
        "\n",
        "# Try decoding\n",
        "print(from_morse(\".... . .-.. .-.. ---\"))"
      ]
    },
    {
      "cell_type": "code",
      "source": [
        "palabra = \".... --- .-.. .- -.- .- ... . -.-.--\"\n",
        "palabra = \"--. ..- .- -.-. .--- .- .-.. .-.. ---\"\n",
        "print(from_morse(palabra))\n"
      ],
      "metadata": {
        "colab": {
          "base_uri": "https://localhost:8080/"
        },
        "id": "dNb0yafG26aF",
        "outputId": "f148a45c-5acd-460d-91e1-0af05221f346"
      },
      "id": "dNb0yafG26aF",
      "execution_count": 14,
      "outputs": [
        {
          "output_type": "stream",
          "name": "stdout",
          "text": [
            "GUACJALLO\n"
          ]
        }
      ]
    },
    {
      "cell_type": "markdown",
      "id": "8d5707d0-f14d-4aaf-bca2-dd7a64d97380",
      "metadata": {
        "id": "8d5707d0-f14d-4aaf-bca2-dd7a64d97380"
      },
      "source": [
        "## Optional Hands-on Activity\n",
        "\n",
        "Get yourself a electric piano and connect it to GarageBand. In GarageBand you can visualize the duration of played notes. Try to encode a secret message in sound using these tools!"
      ]
    },
    {
      "cell_type": "markdown",
      "id": "976725d4-b5e0-4951-a8c7-7d969e0fae14",
      "metadata": {
        "id": "976725d4-b5e0-4951-a8c7-7d969e0fae14"
      },
      "source": [
        "# 🏰 3. The Caesar Cipher\n",
        "\n",
        "The **Caesar Cipher** is a secret code where each letter moves **forward** in the alphabet.\n",
        "\n",
        "Example with shift of 1:\n",
        "\n",
        "- A → B\n",
        "- B → C\n",
        "- C → D\n",
        "\n",
        "So \"DOG\" becomes \"EPH\"!\n"
      ]
    },
    {
      "cell_type": "code",
      "execution_count": 15,
      "id": "c6ab0c17-a6d1-4b4c-93cc-462bb9ca792e",
      "metadata": {
        "id": "c6ab0c17-a6d1-4b4c-93cc-462bb9ca792e",
        "outputId": "981a3a2f-bfcf-4f28-d35b-deafd9a23a74",
        "colab": {
          "base_uri": "https://localhost:8080/"
        }
      },
      "outputs": [
        {
          "output_type": "stream",
          "name": "stdout",
          "text": [
            "KHOOR\n"
          ]
        }
      ],
      "source": [
        "# Simple Caesar cipher (just for letters)\n",
        "def caesar_encrypt(message, shift):\n",
        "    result = ''\n",
        "    for letter in message.upper():\n",
        "        if letter.isalpha():\n",
        "            new_letter = chr((ord(letter) - 65 + shift) % 26 + 65)\n",
        "            result += new_letter\n",
        "        else:\n",
        "            result += letter  # leave spaces and symbols as-is\n",
        "    return result\n",
        "\n",
        "# Try it\n",
        "print(caesar_encrypt(\"HELLO\", 3))  # should be KHOOR\n"
      ]
    },
    {
      "cell_type": "code",
      "execution_count": 16,
      "id": "73942f50-9da0-4002-91e0-10651f1d9c3d",
      "metadata": {
        "id": "73942f50-9da0-4002-91e0-10651f1d9c3d",
        "outputId": "d0213205-8dea-4b9b-ce25-bf6d905c8e1f",
        "colab": {
          "base_uri": "https://localhost:8080/"
        }
      },
      "outputs": [
        {
          "output_type": "stream",
          "name": "stdout",
          "text": [
            "HELLO\n"
          ]
        }
      ],
      "source": [
        "# Let's also decrypt!\n",
        "def caesar_decrypt(secret, shift):\n",
        "    return caesar_encrypt(secret, -shift)\n",
        "\n",
        "# Try decoding\n",
        "print(caesar_decrypt(\"KHOOR\", 3))  # should be HELLO\n"
      ]
    },
    {
      "cell_type": "markdown",
      "id": "d67127a5-d070-4190-aa55-d585824a62e5",
      "metadata": {
        "id": "d67127a5-d070-4190-aa55-d585824a62e5"
      },
      "source": [
        "## 🔁 Exercise!\n",
        "\n",
        "Try writing your name in Caesar Cipher with different shifts!\n",
        "\n",
        "Use the functions:\n",
        "- `caesar_encrypt(\"YOURNAME\", shift)`\n",
        "- `caesar_decrypt(\"CIPHERTEXT\", shift)`\n"
      ]
    },
    {
      "cell_type": "code",
      "execution_count": 18,
      "id": "c2b0ea23-82e3-4a01-af4b-01dd469aab88",
      "metadata": {
        "id": "c2b0ea23-82e3-4a01-af4b-01dd469aab88",
        "colab": {
          "base_uri": "https://localhost:8080/",
          "height": 35
        },
        "outputId": "b092a11f-046b-4325-fc2f-e0d5ad593094"
      },
      "outputs": [
        {
          "output_type": "execute_result",
          "data": {
            "text/plain": [
              "'IXOFUXP'"
            ],
            "application/vnd.google.colaboratory.intrinsic+json": {
              "type": "string"
            }
          },
          "metadata": {},
          "execution_count": 18
        }
      ],
      "source": [
        "# your code goes here\n",
        "(caesar_encrypt('fulcrum',3))"
      ]
    },
    {
      "cell_type": "code",
      "source": [
        "codigo = \"GPYT GTOT GTNT\"\n",
        "# decrypt this message!\n",
        "\n",
        "print(caesar_decrypt('GPYT GTOT GTNT',11))"
      ],
      "metadata": {
        "id": "bmVbghOW-LqA",
        "outputId": "b933b4d0-ddbc-4ecd-c656-dd117281a473",
        "colab": {
          "base_uri": "https://localhost:8080/"
        }
      },
      "id": "bmVbghOW-LqA",
      "execution_count": 25,
      "outputs": [
        {
          "output_type": "stream",
          "name": "stdout",
          "text": [
            "VENI VIDI VICI\n"
          ]
        }
      ]
    },
    {
      "cell_type": "markdown",
      "id": "699a3ae3-99d5-4753-98da-83c923e988c8",
      "metadata": {
        "id": "699a3ae3-99d5-4753-98da-83c923e988c8"
      },
      "source": [
        "# 🧠 4. What Did We Learn?\n",
        "\n",
        "🎯 **Morse Code** uses dots and dashes to represent letters. Great for secret beeps!\n",
        "\n",
        "🎯 **Caesar Cipher** shifts letters to make messages unreadable.\n",
        "\n",
        "🎯 Encryption is all about turning **readable messages (plaintext)** into **secret messages (ciphertext)**.\n",
        "\n",
        "---\n",
        "\n",
        "### 🛡️ Why is this important?\n",
        "\n",
        "People use encryption to:\n",
        "- Keep messages private 📱\n",
        "- Protect bank accounts 🏦\n",
        "- Send secret codes in video games! 🎮\n"
      ]
    },
    {
      "cell_type": "markdown",
      "id": "c05dd22e-95b3-4a8c-ae31-e910fa765e79",
      "metadata": {
        "id": "c05dd22e-95b3-4a8c-ae31-e910fa765e79"
      },
      "source": [
        "# 🕵️‍♀️ 5. Secret Message Challenge!\n",
        "\n",
        "Now that you know how to make and break Caesar Cipher messages...\n",
        "\n",
        "### 📬 Mission:\n",
        "1. Now you will have to write a secret message using the **Caesar Cipher**, but **do NOT tell anybody your shift number**!\n",
        "2. Once that you've encoded you message, copy-paste it into an iCloud Apple Notes or share it via other means.\n",
        "\n",
        "### 🧠 If you receive a message...\n",
        "Use Python and try all **25 possible shifts** to guess what the original message was.\n",
        "\n",
        "This is called a **Brute Force Attack** — trying every possible key!\n",
        "\n",
        "Let’s write a helper to do it.\n"
      ]
    },
    {
      "cell_type": "code",
      "execution_count": 28,
      "id": "0483422e-d435-44b2-8ebb-0e6acf3247ea",
      "metadata": {
        "id": "0483422e-d435-44b2-8ebb-0e6acf3247ea",
        "outputId": "c537f901-8a96-4f4d-d4f6-f3d1b61498d9",
        "colab": {
          "base_uri": "https://localhost:8080/"
        },
        "collapsed": true
      },
      "outputs": [
        {
          "output_type": "stream",
          "name": "stdout",
          "text": [
            "Shift 1: VJG GCING JCU NCPFGF\n",
            "Shift 2: UIF FBHMF IBT MBOEFE\n",
            "Shift 3: THE EAGLE HAS LANDED\n",
            "Shift 4: SGD DZFKD GZR KZMCDC\n",
            "Shift 5: RFC CYEJC FYQ JYLBCB\n",
            "Shift 6: QEB BXDIB EXP IXKABA\n",
            "Shift 7: PDA AWCHA DWO HWJZAZ\n",
            "Shift 8: OCZ ZVBGZ CVN GVIYZY\n",
            "Shift 9: NBY YUAFY BUM FUHXYX\n",
            "Shift 10: MAX XTZEX ATL ETGWXW\n",
            "Shift 11: LZW WSYDW ZSK DSFVWV\n",
            "Shift 12: KYV VRXCV YRJ CREUVU\n",
            "Shift 13: JXU UQWBU XQI BQDTUT\n",
            "Shift 14: IWT TPVAT WPH APCSTS\n",
            "Shift 15: HVS SOUZS VOG ZOBRSR\n",
            "Shift 16: GUR RNTYR UNF YNAQRQ\n",
            "Shift 17: FTQ QMSXQ TME XMZPQP\n",
            "Shift 18: ESP PLRWP SLD WLYOPO\n",
            "Shift 19: DRO OKQVO RKC VKXNON\n",
            "Shift 20: CQN NJPUN QJB UJWMNM\n",
            "Shift 21: BPM MIOTM PIA TIVLML\n",
            "Shift 22: AOL LHNSL OHZ SHUKLK\n",
            "Shift 23: ZNK KGMRK NGY RGTJKJ\n",
            "Shift 24: YMJ JFLQJ MFX QFSIJI\n",
            "Shift 25: XLI IEKPI LEW PERHIH\n"
          ]
        }
      ],
      "source": [
        "# Try all shifts and print the results!\n",
        "def brute_force_caesar(ciphertext):\n",
        "    for shift in range(1, 26):  # 1 to 25\n",
        "        guess = caesar_decrypt(ciphertext, shift)\n",
        "        print(f\"Shift {shift}: {guess}\")\n",
        "\n",
        "# Try it!\n",
        "brute_force_caesar(\"WKH HDJOH KDV ODQGHG\")\n"
      ]
    },
    {
      "cell_type": "code",
      "source": [
        "brute_force_caesar(\"ELV BK IX OBSRBIQXXX AXSFAYOLKZXKLLLLLLL!\")"
      ],
      "metadata": {
        "id": "ao1-E0w6C_Dy",
        "outputId": "6a8f0166-1ac0-45a8-ac0d-fec837cbc12f",
        "colab": {
          "base_uri": "https://localhost:8080/"
        }
      },
      "id": "ao1-E0w6C_Dy",
      "execution_count": 29,
      "outputs": [
        {
          "output_type": "stream",
          "name": "stdout",
          "text": [
            "Shift 1: DKU AJ HW NARQAHPWWW ZWREZXNKJYWJKKKKKKK!\n",
            "Shift 2: CJT ZI GV MZQPZGOVVV YVQDYWMJIXVIJJJJJJJ!\n",
            "Shift 3: BIS YH FU LYPOYFNUUU XUPCXVLIHWUHIIIIIII!\n",
            "Shift 4: AHR XG ET KXONXEMTTT WTOBWUKHGVTGHHHHHHH!\n",
            "Shift 5: ZGQ WF DS JWNMWDLSSS VSNAVTJGFUSFGGGGGGG!\n",
            "Shift 6: YFP VE CR IVMLVCKRRR URMZUSIFETREFFFFFFF!\n",
            "Shift 7: XEO UD BQ HULKUBJQQQ TQLYTRHEDSQDEEEEEEE!\n",
            "Shift 8: WDN TC AP GTKJTAIPPP SPKXSQGDCRPCDDDDDDD!\n",
            "Shift 9: VCM SB ZO FSJISZHOOO ROJWRPFCBQOBCCCCCCC!\n",
            "Shift 10: UBL RA YN ERIHRYGNNN QNIVQOEBAPNABBBBBBB!\n",
            "Shift 11: TAK QZ XM DQHGQXFMMM PMHUPNDAZOMZAAAAAAA!\n",
            "Shift 12: SZJ PY WL CPGFPWELLL OLGTOMCZYNLYZZZZZZZ!\n",
            "Shift 13: RYI OX VK BOFEOVDKKK NKFSNLBYXMKXYYYYYYY!\n",
            "Shift 14: QXH NW UJ ANEDNUCJJJ MJERMKAXWLJWXXXXXXX!\n",
            "Shift 15: PWG MV TI ZMDCMTBIII LIDQLJZWVKIVWWWWWWW!\n",
            "Shift 16: OVF LU SH YLCBLSAHHH KHCPKIYVUJHUVVVVVVV!\n",
            "Shift 17: NUE KT RG XKBAKRZGGG JGBOJHXUTIGTUUUUUUU!\n",
            "Shift 18: MTD JS QF WJAZJQYFFF IFANIGWTSHFSTTTTTTT!\n",
            "Shift 19: LSC IR PE VIZYIPXEEE HEZMHFVSRGERSSSSSSS!\n",
            "Shift 20: KRB HQ OD UHYXHOWDDD GDYLGEURQFDQRRRRRRR!\n",
            "Shift 21: JQA GP NC TGXWGNVCCC FCXKFDTQPECPQQQQQQQ!\n",
            "Shift 22: IPZ FO MB SFWVFMUBBB EBWJECSPODBOPPPPPPP!\n",
            "Shift 23: HOY EN LA REVUELTAAA DAVIDBRONCANOOOOOOO!\n",
            "Shift 24: GNX DM KZ QDUTDKSZZZ CZUHCAQNMBZMNNNNNNN!\n",
            "Shift 25: FMW CL JY PCTSCJRYYY BYTGBZPMLAYLMMMMMMM!\n"
          ]
        }
      ]
    },
    {
      "cell_type": "markdown",
      "id": "3393c709-d6da-4b2e-9c69-35ddc5ac27dd",
      "metadata": {
        "id": "3393c709-d6da-4b2e-9c69-35ddc5ac27dd"
      },
      "source": [
        "### ✅ What to Do:\n",
        "- Read all the guesses.\n",
        "- Which one makes real sense?\n",
        "- That’s the original message!\n",
        "\n",
        "🎉 You just broke a Caesar Cipher without knowing the secret key!\n"
      ]
    },
    {
      "cell_type": "markdown",
      "id": "24e1b690-37e7-4bcd-b7c1-409cea6425c9",
      "metadata": {
        "id": "24e1b690-37e7-4bcd-b7c1-409cea6425c9"
      },
      "source": [
        "# 🛡️ 6. From Caesar to Cyber: How Do We Protect Messages Today?\n",
        "\n",
        "The Caesar Cipher is fun — but it's super easy to crack with just a bit of time. 🕵️‍♀️  \n",
        "So what do we use today to keep our messages safe?\n",
        "\n",
        "Let's take a peek into the world of **modern encryption!** 🚀🔐\n"
      ]
    },
    {
      "cell_type": "markdown",
      "id": "62560c5a-799a-482e-97d3-273987fb3d9c",
      "metadata": {
        "id": "62560c5a-799a-482e-97d3-273987fb3d9c"
      },
      "source": [
        "### 💬 What is Encryption Today?\n",
        "\n",
        "Modern encryption is like Caesar Cipher, but **WAY more complicated**.\n",
        "\n",
        "Instead of just moving letters, we now:\n",
        "- Use **math and computers** to mix up the message.\n",
        "- Make codes that are **impossible to break** without the right key (even for supercomputers!).\n"
      ]
    },
    {
      "cell_type": "markdown",
      "id": "80297a3b-c417-40db-a29b-b124670f4a3f",
      "metadata": {
        "id": "80297a3b-c417-40db-a29b-b124670f4a3f"
      },
      "source": [
        "### 🔑 Two Main Types of Encryption:\n",
        "\n",
        "- **Symmetric Encryption**:\n",
        "  - Both people use the **same secret key** to lock and unlock messages.\n",
        "  - Like a treasure chest with one key that you both have.\n",
        "  - Example: AES (used in apps, games, phones)\n",
        "\n",
        "- **Asymmetric Encryption**:\n",
        "  - Uses **two keys** — one to lock, one to unlock.\n",
        "  - One key can be public, and the other private.\n",
        "  - Example: RSA (used in websites, emails)\n",
        "\n",
        "This is how your passwords and messages are kept safe on the internet! 🌍🔒\n"
      ]
    },
    {
      "cell_type": "markdown",
      "id": "77ecd4b2-70b5-430f-ad3b-1538444fecf0",
      "metadata": {
        "id": "77ecd4b2-70b5-430f-ad3b-1538444fecf0"
      },
      "source": [
        "### 🔍 You Use Encryption Every Day!  \n",
        "\n",
        "Here are places where encryption keeps you safe:\n",
        "\n",
        "- **Messaging apps** (like WhatsApp, iMessage)\n",
        "- **Websites** (the 🔒 lock icon in your browser)\n",
        "- **Games** (to protect your login info)\n",
        "- **Wi-Fi networks**\n",
        "- **Banking apps**\n",
        "\n",
        "So next time you see a lock icon — that's encryption at work! 🧠💡\n"
      ]
    },
    {
      "cell_type": "markdown",
      "id": "55a3ade9-764b-48d6-9cd3-5b426b3392b0",
      "metadata": {
        "id": "55a3ade9-764b-48d6-9cd3-5b426b3392b0"
      },
      "source": [
        "### 🧠 Try This:\n",
        "\n",
        "Pretend you want to send your friend a secret password using a messenger app.  \n",
        "But there's a spy listening in! 😮\n",
        "\n",
        "Ask:\n",
        "- How could you make sure the spy **can’t read** the message?\n",
        "- What if the spy **doesn't know the key**, but can see the encrypted message?\n",
        "\n",
        "(Use what you learned about Caesar Cipher!)\n"
      ]
    },
    {
      "cell_type": "markdown",
      "id": "1323be33-e561-4ae6-b448-8c1c7350c5ae",
      "metadata": {
        "id": "1323be33-e561-4ae6-b448-8c1c7350c5ae"
      },
      "source": [
        "## 🎓 Final Takeaways\n",
        "\n",
        "- Encryption turns messages into secret code.\n",
        "- **Caesar Cipher** is a simple example, but it can be cracked easily.\n",
        "- Today, we use **math-powered encryption** to protect everything online.\n",
        "- Learning how codes work helps you stay safe and maybe even build your own!\n",
        "\n",
        "🧙‍♂️ You've taken your first steps into the world of cryptography. Great job, secret agent!\n"
      ]
    },
    {
      "cell_type": "markdown",
      "id": "a80cf52c-0189-456e-bcbf-acf8217cd2f1",
      "metadata": {
        "id": "a80cf52c-0189-456e-bcbf-acf8217cd2f1"
      },
      "source": [
        "# You're now an official **Junior Cryptographer**! 🧙‍♂️🔐"
      ]
    }
  ],
  "metadata": {
    "kernelspec": {
      "display_name": "Python [conda env:base] *",
      "language": "python",
      "name": "conda-base-py"
    },
    "language_info": {
      "codemirror_mode": {
        "name": "ipython",
        "version": 3
      },
      "file_extension": ".py",
      "mimetype": "text/x-python",
      "name": "python",
      "nbconvert_exporter": "python",
      "pygments_lexer": "ipython3",
      "version": "3.12.7"
    },
    "colab": {
      "provenance": []
    }
  },
  "nbformat": 4,
  "nbformat_minor": 5
}